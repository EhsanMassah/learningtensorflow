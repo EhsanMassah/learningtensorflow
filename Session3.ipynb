{
 "cells": [
  {
   "cell_type": "markdown",
   "metadata": {},
   "source": [
    "<h2>Loss function<h2>"
   ]
  },
  {
   "cell_type": "code",
   "execution_count": 3,
   "metadata": {},
   "outputs": [],
   "source": [
    "import tensorflow as tf\n",
    "import pandas as pd\n",
    "import numpy as np\n",
    "import time\n",
    "from sklearn.datasets import load_iris\n",
    "from sklearn.model_selection import train_test_split\n",
    "import matplotlib.pyplot as plt"
   ]
  },
  {
   "cell_type": "code",
   "execution_count": 29,
   "metadata": {},
   "outputs": [],
   "source": [
    "iris = load_iris()\n",
    "iris_X, iris_y = iris.data[:-1,:], iris.target[:-1]\n",
    "iris_y= pd.get_dummies(iris_y).values\n",
    "trainX, testX, trainY, testY = train_test_split(iris_X, iris_y, test_size=0.33, random_state=42)"
   ]
  },
  {
   "cell_type": "code",
   "execution_count": 30,
   "metadata": {},
   "outputs": [],
   "source": [
    "# numFeatures is the number of features in our input data.\n",
    "# In the iris dataset, this number is '4'.\n",
    "numFeatures = trainX.shape[1]\n",
    "\n",
    "# numLabels is the number of classes our data points can be in.\n",
    "# In the iris dataset, this number is '3'.\n",
    "numLabels = trainY.shape[1]\n",
    "\n",
    "\n",
    "# Placeholders\n",
    "# 'None' means TensorFlow shouldn't expect a fixed number in that dimension\n",
    "X = tf.placeholder(tf.float32, [None, numFeatures]) # Iris has 4 features, so X is a tensor to hold our data.\n",
    "yGold = tf.placeholder(tf.float32, [None, numLabels]) # This will be our correct answers matrix for 3 classes."
   ]
  },
  {
   "cell_type": "code",
   "execution_count": 31,
   "metadata": {},
   "outputs": [],
   "source": [
    "W = tf.Variable(tf.zeros([4, 3]))  # 4-dimensional input and  3 classes\n",
    "b = tf.Variable(tf.zeros([3])) # 3-dimensional output [0,0,1],[0,1,0],[1,0,0]"
   ]
  },
  {
   "cell_type": "code",
   "execution_count": 32,
   "metadata": {},
   "outputs": [],
   "source": [
    "#Randomly sample from a normal distribution with standard deviation .01\n",
    "\n",
    "weights = tf.Variable(tf.random_normal([numFeatures,numLabels],\n",
    "                                       mean=0,\n",
    "                                       stddev=0.01,\n",
    "                                       name=\"weights\"))\n",
    "\n",
    "bias = tf.Variable(tf.random_normal([1,numLabels],\n",
    "                                    mean=0,\n",
    "                                    stddev=0.01,\n",
    "                                    name=\"bias\"))"
   ]
  },
  {
   "cell_type": "code",
   "execution_count": 33,
   "metadata": {},
   "outputs": [],
   "source": [
    "# Three-component breakdown of the Logistic Regression equation.\n",
    "# Note that these feed into each other.\n",
    "apply_weights_OP = tf.matmul(X, weights, name=\"apply_weights\")\n",
    "add_bias_OP = tf.add(apply_weights_OP, bias, name=\"add_bias\") \n",
    "activation_OP = tf.nn.sigmoid(add_bias_OP, name=\"activation\")"
   ]
  },
  {
   "cell_type": "code",
   "execution_count": 34,
   "metadata": {},
   "outputs": [],
   "source": [
    "# Number of Epochs in our training\n",
    "numEpochs = 700\n",
    "\n",
    "# Defining our learning rate iterations (decay)\n",
    "learningRate = tf.train.exponential_decay(learning_rate=0.0008,\n",
    "                                          global_step= 1,\n",
    "                                          decay_steps=trainX.shape[0],\n",
    "                                          decay_rate= 0.95,\n",
    "                                          staircase=True)"
   ]
  },
  {
   "cell_type": "code",
   "execution_count": 35,
   "metadata": {},
   "outputs": [],
   "source": [
    "#Defining our cost function - Squared Mean Error\n",
    "cost_OP = tf.nn.l2_loss(activation_OP-yGold, name=\"squared_error_cost\")\n",
    "\n",
    "#Defining our Gradient Descent\n",
    "training_OP = tf.train.GradientDescentOptimizer(learningRate).minimize(cost_OP)"
   ]
  },
  {
   "cell_type": "code",
   "execution_count": 36,
   "metadata": {},
   "outputs": [],
   "source": [
    "# Create a tensorflow session\n",
    "sess = tf.Session()\n",
    "\n",
    "# Initialize our weights and biases variables.\n",
    "init_OP = tf.global_variables_initializer()\n",
    "\n",
    "# Initialize all tensorflow variables\n",
    "sess.run(init_OP)"
   ]
  },
  {
   "cell_type": "code",
   "execution_count": 37,
   "metadata": {},
   "outputs": [],
   "source": [
    "# argmax(activation_OP, 1) returns the label with the most probability\n",
    "# argmax(yGold, 1) is the correct label\n",
    "correct_predictions_OP = tf.equal(tf.argmax(activation_OP,1),tf.argmax(yGold,1))\n",
    "\n",
    "# If every false prediction is 0 and every true prediction is 1, the average returns us the accuracy\n",
    "accuracy_OP = tf.reduce_mean(tf.cast(correct_predictions_OP, \"float\"))\n",
    "\n",
    "# Summary op for regression output\n",
    "activation_summary_OP = tf.summary.histogram(\"output\", activation_OP)\n",
    "\n",
    "# Summary op for accuracy\n",
    "accuracy_summary_OP = tf.summary.scalar(\"accuracy\", accuracy_OP)\n",
    "\n",
    "# Summary op for cost\n",
    "cost_summary_OP = tf.summary.scalar(\"cost\", cost_OP)\n",
    "\n",
    "# Summary ops to check how variables (W, b) are updating after each iteration\n",
    "weightSummary = tf.summary.histogram(\"weights\", weights.eval(session=sess))\n",
    "biasSummary = tf.summary.histogram(\"biases\", bias.eval(session=sess))\n",
    "\n",
    "# Merge all summaries\n",
    "merged = tf.summary.merge([activation_summary_OP, accuracy_summary_OP, cost_summary_OP, weightSummary, biasSummary])\n",
    "\n",
    "# Summary writer\n",
    "writer = tf.summary.FileWriter(\"summary_logs\", sess.graph)"
   ]
  },
  {
   "cell_type": "code",
   "execution_count": 38,
   "metadata": {},
   "outputs": [
    {
     "name": "stdout",
     "output_type": "stream",
     "text": [
      "step 0, training accuracy 0.333333, cost 34.6224, change in cost 34.6224\n",
      "step 10, training accuracy 0.59596, cost 30.1032, change in cost 4.51919\n",
      "step 20, training accuracy 0.646465, cost 28.1521, change in cost 1.95111\n",
      "step 30, training accuracy 0.646465, cost 26.5085, change in cost 1.64356\n",
      "step 40, training accuracy 0.646465, cost 25.1445, change in cost 1.36403\n",
      "step 50, training accuracy 0.646465, cost 24.0184, change in cost 1.12612\n",
      "step 60, training accuracy 0.646465, cost 23.0866, change in cost 0.931795\n",
      "step 70, training accuracy 0.646465, cost 22.3105, change in cost 0.776142\n",
      "step 80, training accuracy 0.646465, cost 21.6582, change in cost 0.652308\n",
      "step 90, training accuracy 0.646465, cost 21.1045, change in cost 0.553701\n",
      "step 100, training accuracy 0.656566, cost 20.6297, change in cost 0.474792\n",
      "step 110, training accuracy 0.666667, cost 20.2185, change in cost 0.411196\n",
      "step 120, training accuracy 0.666667, cost 19.859, change in cost 0.359497\n",
      "step 130, training accuracy 0.666667, cost 19.5419, change in cost 0.31711\n",
      "step 140, training accuracy 0.666667, cost 19.2598, change in cost 0.282051\n",
      "step 150, training accuracy 0.666667, cost 19.007, change in cost 0.2528\n",
      "step 160, training accuracy 0.676768, cost 18.7788, change in cost 0.228191\n",
      "step 170, training accuracy 0.686869, cost 18.5715, change in cost 0.207336\n",
      "step 180, training accuracy 0.686869, cost 18.382, change in cost 0.18951\n",
      "step 190, training accuracy 0.707071, cost 18.2078, change in cost 0.174185\n",
      "step 200, training accuracy 0.717172, cost 18.0469, change in cost 0.160917\n",
      "step 210, training accuracy 0.737374, cost 17.8975, change in cost 0.149351\n",
      "step 220, training accuracy 0.737374, cost 17.7583, change in cost 0.139217\n",
      "step 230, training accuracy 0.747475, cost 17.628, change in cost 0.130287\n",
      "step 240, training accuracy 0.757576, cost 17.5056, change in cost 0.12237\n",
      "step 250, training accuracy 0.767677, cost 17.3903, change in cost 0.115324\n",
      "step 260, training accuracy 0.787879, cost 17.2813, change in cost 0.109018\n",
      "step 270, training accuracy 0.787879, cost 17.1779, change in cost 0.103355\n",
      "step 280, training accuracy 0.787879, cost 17.0797, change in cost 0.0982456\n",
      "step 290, training accuracy 0.787879, cost 16.9861, change in cost 0.0936165\n",
      "step 300, training accuracy 0.79798, cost 16.8967, change in cost 0.0894032\n",
      "step 310, training accuracy 0.79798, cost 16.8111, change in cost 0.0855598\n",
      "step 320, training accuracy 0.79798, cost 16.7291, change in cost 0.0820446\n",
      "step 330, training accuracy 0.79798, cost 16.6503, change in cost 0.0788078\n",
      "step 340, training accuracy 0.79798, cost 16.5744, change in cost 0.0758324\n",
      "step 350, training accuracy 0.828283, cost 16.5014, change in cost 0.0730782\n",
      "step 360, training accuracy 0.828283, cost 16.4308, change in cost 0.0705261\n",
      "step 370, training accuracy 0.838384, cost 16.3627, change in cost 0.0681515\n",
      "step 380, training accuracy 0.838384, cost 16.2967, change in cost 0.0659466\n",
      "step 390, training accuracy 0.838384, cost 16.2328, change in cost 0.0638809\n",
      "step 400, training accuracy 0.848485, cost 16.1709, change in cost 0.0619507\n",
      "step 410, training accuracy 0.848485, cost 16.1108, change in cost 0.0601387\n",
      "step 420, training accuracy 0.848485, cost 16.0523, change in cost 0.0584373\n",
      "step 430, training accuracy 0.858586, cost 15.9955, change in cost 0.0568333\n",
      "step 440, training accuracy 0.868687, cost 15.9402, change in cost 0.055315\n",
      "step 450, training accuracy 0.868687, cost 15.8863, change in cost 0.0538874\n",
      "step 460, training accuracy 0.868687, cost 15.8337, change in cost 0.052536\n",
      "step 470, training accuracy 0.878788, cost 15.7825, change in cost 0.0512438\n",
      "step 480, training accuracy 0.878788, cost 15.7325, change in cost 0.0500278\n",
      "step 490, training accuracy 0.878788, cost 15.6836, change in cost 0.0488634\n",
      "step 500, training accuracy 0.878788, cost 15.6359, change in cost 0.0477581\n",
      "step 510, training accuracy 0.878788, cost 15.5892, change in cost 0.0467005\n",
      "step 520, training accuracy 0.878788, cost 15.5435, change in cost 0.0456905\n",
      "step 530, training accuracy 0.888889, cost 15.4987, change in cost 0.0447292\n",
      "step 540, training accuracy 0.89899, cost 15.4549, change in cost 0.0438032\n",
      "step 550, training accuracy 0.89899, cost 15.412, change in cost 0.0429125\n",
      "step 560, training accuracy 0.89899, cost 15.37, change in cost 0.0420666\n",
      "step 570, training accuracy 0.89899, cost 15.3287, change in cost 0.0412483\n",
      "step 580, training accuracy 0.89899, cost 15.2882, change in cost 0.0404634\n",
      "step 590, training accuracy 0.909091, cost 15.2485, change in cost 0.0397034\n",
      "step 600, training accuracy 0.909091, cost 15.2096, change in cost 0.0389776\n",
      "step 610, training accuracy 0.909091, cost 15.1713, change in cost 0.0382738\n",
      "step 620, training accuracy 0.909091, cost 15.1337, change in cost 0.0375938\n",
      "step 630, training accuracy 0.909091, cost 15.0968, change in cost 0.0369387\n",
      "step 640, training accuracy 0.909091, cost 15.0604, change in cost 0.0363083\n",
      "step 650, training accuracy 0.909091, cost 15.0248, change in cost 0.0356913\n",
      "step 660, training accuracy 0.909091, cost 14.9897, change in cost 0.035099\n",
      "step 670, training accuracy 0.909091, cost 14.9551, change in cost 0.034524\n",
      "step 680, training accuracy 0.909091, cost 14.9212, change in cost 0.033968\n",
      "step 690, training accuracy 0.909091, cost 14.8877, change in cost 0.0334263\n",
      "final accuracy on test set: 0.9\n"
     ]
    }
   ],
   "source": [
    "# Initialize reporting variables\n",
    "cost = 0\n",
    "diff = 1\n",
    "epoch_values = []\n",
    "accuracy_values = []\n",
    "cost_values = []\n",
    "\n",
    "# Training epochs\n",
    "for i in range(numEpochs):\n",
    "    if i > 1 and diff < .0001:\n",
    "        print(\"change in cost %g; convergence.\"%diff)\n",
    "        break\n",
    "    else:\n",
    "        # Run training step\n",
    "        step = sess.run(training_OP, feed_dict={X: trainX, yGold: trainY})\n",
    "        # Report occasional stats\n",
    "        if i % 10 == 0:\n",
    "            # Add epoch to epoch_values\n",
    "            epoch_values.append(i)\n",
    "            # Generate accuracy stats on test data\n",
    "            train_accuracy, newCost = sess.run([accuracy_OP, cost_OP], feed_dict={X: trainX, yGold: trainY})\n",
    "            # Add accuracy to live graphing variable\n",
    "            accuracy_values.append(train_accuracy)\n",
    "            # Add cost to live graphing variable\n",
    "            cost_values.append(newCost)\n",
    "            # Re-assign values for variables\n",
    "            diff = abs(newCost - cost)\n",
    "            cost = newCost\n",
    "\n",
    "            #generate print statements\n",
    "            print(\"step %d, training accuracy %g, cost %g, change in cost %g\"%(i, train_accuracy, newCost, diff))\n",
    "\n",
    "\n",
    "# How well do we perform on held-out test data?\n",
    "print(\"final accuracy on test set: %s\" %str(sess.run(accuracy_OP, \n",
    "                                                     feed_dict={X: testX, \n",
    "                                                                yGold: testY})))"
   ]
  },
  {
   "cell_type": "code",
   "execution_count": 39,
   "metadata": {
    "scrolled": true
   },
   "outputs": [
    {
     "data": {
      "image/png": "[encoded data removed]",
      "text/plain": [
       "<Figure size 432x288 with 1 Axes>"
      ]
     },
     "metadata": {
      "needs_background": "light"
     },
     "output_type": "display_data"
    }
   ],
   "source": [
    "%matplotlib inline\n",
    "import numpy as np\n",
    "import matplotlib.pyplot as plt\n",
    "plt.plot([np.mean(cost_values[i-50:i]) for i in range(len(cost_values))])\n",
    "plt.show()"
   ]
  },
  {
   "cell_type": "code",
   "execution_count": null,
   "metadata": {},
   "outputs": [],
   "source": []
  },
  {
   "cell_type": "code",
   "execution_count": null,
   "metadata": {},
   "outputs": [],
   "source": []
  }
 ],
 "metadata": {
  "kernelspec": {
   "display_name": "Python 3",
   "language": "python",
   "name": "python3"
  },
  "language_info": {
   "codemirror_mode": {
    "name": "ipython",
    "version": 3
   },
   "file_extension": ".py",
   "mimetype": "text/x-python",
   "name": "python",
   "nbconvert_exporter": "python",
   "pygments_lexer": "ipython3",
   "version": "3.7.5"
  }
 },
 "nbformat": 4,
 "nbformat_minor": 2
}
